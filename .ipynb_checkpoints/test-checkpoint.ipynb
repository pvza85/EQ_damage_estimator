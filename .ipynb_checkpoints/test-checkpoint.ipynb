{
 "cells": [
  {
   "cell_type": "code",
   "execution_count": 1,
   "metadata": {
    "collapsed": false
   },
   "outputs": [
    {
     "name": "stderr",
     "output_type": "stream",
     "text": [
      "/usr/local/lib/python2.7/dist-packages/ipykernel/__main__.py:8: DeprecationWarning: You passed a bytestring as `filenames`. This will not work on Python 3. Use `cp.read_file()` or switch to using Unicode strings across the board.\n"
     ]
    }
   ],
   "source": [
    "import cv2\n",
    "from data_preparation.converter import *\n",
    "from data_preparation.building import *\n",
    "import configparser\n",
    "import pandas as pd\n",
    "\n",
    "config = configparser.ConfigParser()\n",
    "config.read('config.ini')\n",
    "conf = config['DEFAULT']"
   ]
  },
  {
   "cell_type": "code",
   "execution_count": 2,
   "metadata": {
    "collapsed": false
   },
   "outputs": [],
   "source": [
    "conv = Converter(conf)\n",
    "data = pd.read_csv(conf['data_folder'] + conf['building_file'])\n",
    "buildings = []\n",
    "for index in data['ORIG_FID'].unique():\n",
    "    Lng = data['X'][data['ORIG_FID'] == index]\n",
    "    Lat = data['Y'][data['ORIG_FID'] == index]\n",
    "    buildings.append(Building(Lng, Lat, index+1, conv))\n",
    "    "
   ]
  },
  {
   "cell_type": "code",
   "execution_count": 3,
   "metadata": {
    "collapsed": false
   },
   "outputs": [
    {
     "data": {
      "text/html": [
       "<div>\n",
       "<table border=\"1\" class=\"dataframe\">\n",
       "  <thead>\n",
       "    <tr style=\"text-align: right;\">\n",
       "      <th></th>\n",
       "      <th>OBJECTID_1</th>\n",
       "      <th>OBJECTID</th>\n",
       "      <th>SHAPE_Leng</th>\n",
       "      <th>ORIG_FID</th>\n",
       "      <th>X</th>\n",
       "      <th>Y</th>\n",
       "    </tr>\n",
       "  </thead>\n",
       "  <tbody>\n",
       "    <tr>\n",
       "      <th>0</th>\n",
       "      <td>1</td>\n",
       "      <td>32</td>\n",
       "      <td>0.000714</td>\n",
       "      <td>0</td>\n",
       "      <td>43.356883</td>\n",
       "      <td>39.030121</td>\n",
       "    </tr>\n",
       "    <tr>\n",
       "      <th>1</th>\n",
       "      <td>2</td>\n",
       "      <td>32</td>\n",
       "      <td>0.000714</td>\n",
       "      <td>0</td>\n",
       "      <td>43.356883</td>\n",
       "      <td>39.029973</td>\n",
       "    </tr>\n",
       "    <tr>\n",
       "      <th>2</th>\n",
       "      <td>3</td>\n",
       "      <td>32</td>\n",
       "      <td>0.000714</td>\n",
       "      <td>0</td>\n",
       "      <td>43.356675</td>\n",
       "      <td>39.029973</td>\n",
       "    </tr>\n",
       "    <tr>\n",
       "      <th>3</th>\n",
       "      <td>4</td>\n",
       "      <td>32</td>\n",
       "      <td>0.000714</td>\n",
       "      <td>0</td>\n",
       "      <td>43.356675</td>\n",
       "      <td>39.030121</td>\n",
       "    </tr>\n",
       "    <tr>\n",
       "      <th>4</th>\n",
       "      <td>5</td>\n",
       "      <td>32</td>\n",
       "      <td>0.000714</td>\n",
       "      <td>0</td>\n",
       "      <td>43.356883</td>\n",
       "      <td>39.030121</td>\n",
       "    </tr>\n",
       "  </tbody>\n",
       "</table>\n",
       "</div>"
      ],
      "text/plain": [
       "   OBJECTID_1  OBJECTID  SHAPE_Leng  ORIG_FID          X          Y\n",
       "0           1        32    0.000714         0  43.356883  39.030121\n",
       "1           2        32    0.000714         0  43.356883  39.029973\n",
       "2           3        32    0.000714         0  43.356675  39.029973\n",
       "3           4        32    0.000714         0  43.356675  39.030121\n",
       "4           5        32    0.000714         0  43.356883  39.030121"
      ]
     },
     "execution_count": 3,
     "metadata": {},
     "output_type": "execute_result"
    }
   ],
   "source": [
    "data[data['ORIG_FID'] == 0]"
   ]
  },
  {
   "cell_type": "code",
   "execution_count": 4,
   "metadata": {
    "collapsed": true
   },
   "outputs": [],
   "source": [
    "def set_pixels(point):\n",
    "    x_new, y_new = conv.coord2pix(point['X'], point['Y'])\n",
    "    \n",
    "    x_old, y_old = conv._coord2pix_(point['X'], point['Y'])\n",
    "    \n",
    "    x_last, y_last = conv.\n",
    "    \n",
    "    return x_new, x_old, y_new, y_old"
   ]
  },
  {
   "cell_type": "code",
   "execution_count": 5,
   "metadata": {
    "collapsed": false
   },
   "outputs": [
    {
     "data": {
      "text/plain": [
       "0    (2713, 2661, 3215, 3066)\n",
       "1    (2715, 2661, 3347, 3197)\n",
       "2    (2576, 2517, 3344, 3197)\n",
       "3    (2574, 2517, 3213, 3066)\n",
       "4    (2713, 2661, 3215, 3066)\n",
       "dtype: object"
      ]
     },
     "execution_count": 5,
     "metadata": {},
     "output_type": "execute_result"
    }
   ],
   "source": [
    "pixels = data[data['ORIG_FID'] == 0].apply(set_pixels, axis=1)\n",
    "pixels"
   ]
  },
  {
   "cell_type": "code",
   "execution_count": null,
   "metadata": {
    "collapsed": true
   },
   "outputs": [],
   "source": []
  },
  {
   "cell_type": "code",
   "execution_count": null,
   "metadata": {
    "collapsed": true
   },
   "outputs": [],
   "source": []
  },
  {
   "cell_type": "code",
   "execution_count": 6,
   "metadata": {
    "collapsed": true
   },
   "outputs": [],
   "source": [
    "imagel = cv2.imread(conf['data_folder'] + conf['labeled_image_file'])[:,:10970]"
   ]
  },
  {
   "cell_type": "code",
   "execution_count": 7,
   "metadata": {
    "collapsed": false
   },
   "outputs": [
    {
     "data": {
      "text/plain": [
       "True"
      ]
     },
     "execution_count": 7,
     "metadata": {},
     "output_type": "execute_result"
    }
   ],
   "source": [
    "for building in buildings:\n",
    "    cv2.rectangle(imagel, (building.x0, building.y0), (building.x1, building.y1), (0,0,255), 4)\n",
    "cv2.circle(imagel, conv.coord2pix(float(conf['lng0']), float(conf['lat0'])), radius=10, color=(0,0,255), thickness=4)\n",
    "cv2.circle(imagel, conv.coord2pix(float(conf['lng1']), float(conf['lat0'])), radius=10, color=(0,0,255), thickness=4)\n",
    "cv2.circle(imagel, conv.coord2pix(float(conf['lng0']), float(conf['lat1'])), radius=10, color=(0,0,255), thickness=4)\n",
    "cv2.circle(imagel, conv.coord2pix(float(conf['lng1']), float(conf['lat1'])), radius=10, color=(0,0,255), thickness=4)\n",
    "cv2.imwrite('buildings.tif', imagel)"
   ]
  },
  {
   "cell_type": "code",
   "execution_count": 15,
   "metadata": {
    "collapsed": false
   },
   "outputs": [
    {
     "data": {
      "text/plain": [
       "True"
      ]
     },
     "execution_count": 15,
     "metadata": {},
     "output_type": "execute_result"
    }
   ],
   "source": [
    "cv2.rectangle(imagel, (0, 30), (10, 40), ( 0, 0, 255), 2)\n",
    "cv2.imwrite('find_bound3.tif', imagel)"
   ]
  },
  {
   "cell_type": "code",
   "execution_count": null,
   "metadata": {
    "collapsed": true
   },
   "outputs": [],
   "source": []
  }
 ],
 "metadata": {
  "kernelspec": {
   "display_name": "Python 2",
   "language": "python",
   "name": "python2"
  },
  "language_info": {
   "codemirror_mode": {
    "name": "ipython",
    "version": 2
   },
   "file_extension": ".py",
   "mimetype": "text/x-python",
   "name": "python",
   "nbconvert_exporter": "python",
   "pygments_lexer": "ipython2",
   "version": "2.7.12"
  }
 },
 "nbformat": 4,
 "nbformat_minor": 0
}
