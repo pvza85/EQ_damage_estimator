{
 "cells": [
  {
   "cell_type": "code",
   "execution_count": 1,
   "metadata": {
    "collapsed": false
   },
   "outputs": [
    {
     "name": "stdout",
     "output_type": "stream",
     "text": [
      "4885   3367   3\n",
      "minx:  357324.191767\n",
      "miny:  4320753.45192\n",
      "maxx:  358789.691767\n",
      "maxy:  4321763.55192\n"
     ]
    }
   ],
   "source": [
    "import sys\n",
    "sys.path.append('../')\n",
    "import data_prep\n",
    "\n",
    "\n",
    "w, h, c = data_prep.get_dimensions(file_name2)\n",
    "print w, ' ', h, ' ', c\n",
    "\n",
    "minx, miny, maxx, maxy = data_prep.get_corners(file_name2)\n",
    "\n",
    "print 'minx: ', minx\n",
    "print 'miny: ', miny\n",
    "print 'maxx: ', maxx\n",
    "print 'maxy: ', maxy"
   ]
  },
  {
   "cell_type": "code",
   "execution_count": 2,
   "metadata": {
    "collapsed": false
   },
   "outputs": [],
   "source": [
    "folder = '/home/payam/workspace/GRM/data/drone01/'\n",
    "#folder = '/home/payam/Dropbox/GRM/data/raw/'\n",
    "import os \n",
    "\n",
    "for f in os.listdir(folder):\n",
    "    #data_prep.convert_to_wgs84(folder+f, (0,0))\n",
    "    #break\n",
    "    df = data_prep.automatic_crop(file_name=folder+f, window_size=100,stepSize=50)"
   ]
  },
  {
   "cell_type": "code",
   "execution_count": 10,
   "metadata": {
    "collapsed": false
   },
   "outputs": [
    {
     "name": "stdout",
     "output_type": "stream",
     "text": [
      "4885   3367   3\n",
      "minx:  357324.191767\n",
      "miny:  4320753.45192\n",
      "maxx:  358789.691767\n",
      "maxy:  4321763.55192\n"
     ]
    }
   ],
   "source": [
    "import cv2\n",
    "import numpy as np\n",
    "file_name = '/home/payam/workspace/GRM/data/raw/et/ercis1.tif'\n",
    "\n",
    "w, h, c = data_prep.get_dimensions(file_name2)\n",
    "print w, ' ', h, ' ', c\n",
    "\n",
    "minx, miny, maxx, maxy = data_prep.get_corners(file_name2)\n",
    "\n",
    "print 'minx: ', minx\n",
    "print 'miny: ', miny\n",
    "print 'maxx: ', maxx\n",
    "print 'maxy: ', maxy\n",
    "\n",
    "#df = data_prep.automatic_crop(file_name=file_name, window_size=100,stepSize=50)\n",
    "\n",
    "image = cv2.imread(file_name)"
   ]
  },
  {
   "cell_type": "code",
   "execution_count": 11,
   "metadata": {
    "collapsed": false
   },
   "outputs": [
    {
     "data": {
      "text/plain": [
       "NoneType"
      ]
     },
     "execution_count": 11,
     "metadata": {},
     "output_type": "execute_result"
    }
   ],
   "source": [
    "type(image)"
   ]
  },
  {
   "cell_type": "code",
   "execution_count": null,
   "metadata": {
    "collapsed": true
   },
   "outputs": [],
   "source": []
  }
 ],
 "metadata": {
  "kernelspec": {
   "display_name": "Python 2",
   "language": "python",
   "name": "python2"
  },
  "language_info": {
   "codemirror_mode": {
    "name": "ipython",
    "version": 2
   },
   "file_extension": ".py",
   "mimetype": "text/x-python",
   "name": "python",
   "nbconvert_exporter": "python",
   "pygments_lexer": "ipython2",
   "version": "2.7.12"
  }
 },
 "nbformat": 4,
 "nbformat_minor": 1
}
