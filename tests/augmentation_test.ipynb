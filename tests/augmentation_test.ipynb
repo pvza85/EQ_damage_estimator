{
 "cells": [
  {
   "cell_type": "code",
   "execution_count": 1,
   "metadata": {
    "collapsed": true
   },
   "outputs": [],
   "source": [
    "import cv2\n",
    "import numpy as np\n",
    "import imutils\n",
    "import shutil\n",
    "import sys\n",
    "sys.path.append('../')\n",
    "import data_prep\n",
    "import pandas as pd\n",
    "df = pd.read_csv('/home/payam/Dropbox/GRM/data/labeling.csv')\n",
    "\n",
    "for row in df.iterrows():\n",
    "    in_folder = '/home/payam/Dropbox/GRM/data/processed/'\n",
    "    out_folder = '/home/payam/workspace/GRM/data/current/'\n",
    "    name = str(int(row[1]['index'])-1).zfill(5)+'.tif'\n",
    "    src = in_folder + name\n",
    "    if row[1]['manual_label'] == 0:\n",
    "        shutil.copy(src, out_folder+'negative/')\n",
    "    else:\n",
    "        shutil.copy(src, out_folder+'positive/')\n",
    "        data_prep.augment(src, out_folder+'positive/')  "
   ]
  },
  {
   "cell_type": "code",
   "execution_count": 19,
   "metadata": {
    "collapsed": false
   },
   "outputs": [],
   "source": [
    "import os\n",
    "from random import shuffle\n",
    "# read files names \n",
    "pos = [ x for x in os.listdir(out_folder+'positive/')]\n",
    "neg = [x for x in os.listdir(out_folder+'negative/')]\n",
    "\n",
    "#create train and test set list\n",
    "train_set = []\n",
    "test_set = []\n",
    "for f in pos:\n",
    "    line = '{0}positive/{1} {2}'.format(out_folder, f, 1)\n",
    "    if len(df)/2 < int(f.split('.')[0].split('_')[0]):\n",
    "        train_set.append(line)\n",
    "    else:\n",
    "        # add just original image not augmented\n",
    "        if not '_' in f:\n",
    "            test_set.append(line)\n",
    "for f in neg:\n",
    "    line = '{0}negative/{1} {2}'.format(out_folder, f, 0)\n",
    "    if len(df)/2 < int(f.split('.')[0]):\n",
    "        train_set.append(line)\n",
    "    else:\n",
    "        test_set.append(line)\n",
    "        \n",
    "shuffle(train_set)\n",
    "shuffle(test_set)\n",
    "\n",
    "train_file = out_folder + 'train.txt'\n",
    "test_file = out_folder + 'test.txt'\n",
    "\n",
    "with open(train_file, 'w+') as trainFile:\n",
    "    with open(test_file, 'w+') as testFile:\n",
    "        for l in train_set:\n",
    "            trainFile.write(l + '\\n')\n",
    "        for l in test_set:\n",
    "            testFile.write(l + '\\n')"
   ]
  },
  {
   "cell_type": "code",
   "execution_count": 22,
   "metadata": {
    "collapsed": false
   },
   "outputs": [],
   "source": [
    "import h5py\n",
    "import os.path\n",
    "from tflearn.data_utils import build_hdf5_image_dataset\n",
    "\n",
    "# Build a HDF5 dataset (only required once)\n",
    "build_hdf5_image_dataset(train_file, image_shape=(40, 40), mode='file', output_path=out_folder + 'train.h5',\n",
    "                         categorical_labels=True, normalize=True)\n",
    "build_hdf5_image_dataset(test_file, image_shape=(40, 40), mode='file', output_path=out_folder + 'test.h5',\n",
    "                         categorical_labels=True, normalize=True)\n",
    "# Load HDF5 dataset\n",
    "_h5f = h5py.File(out_folder + 'train.h5', 'r')\n",
    "X_train = _h5f['X']\n",
    "Y_train = _h5f['Y']\n",
    "\n",
    "h5f_ = h5py.File(out_folder + 'test.h5', 'r')\n",
    "X_test = h5f_['X']\n",
    "Y_test = h5f_['Y']"
   ]
  },
  {
   "cell_type": "code",
   "execution_count": 23,
   "metadata": {
    "collapsed": false
   },
   "outputs": [
    {
     "data": {
      "text/plain": [
       "(22893, 40, 40, 3)"
      ]
     },
     "execution_count": 23,
     "metadata": {},
     "output_type": "execute_result"
    }
   ],
   "source": [
    "X_train.shape"
   ]
  },
  {
   "cell_type": "code",
   "execution_count": null,
   "metadata": {
    "collapsed": true
   },
   "outputs": [],
   "source": []
  },
  {
   "cell_type": "code",
   "execution_count": null,
   "metadata": {
    "collapsed": true
   },
   "outputs": [],
   "source": []
  },
  {
   "cell_type": "code",
   "execution_count": 6,
   "metadata": {
    "collapsed": false
   },
   "outputs": [
    {
     "data": {
      "text/plain": [
       "18602"
      ]
     },
     "execution_count": 6,
     "metadata": {},
     "output_type": "execute_result"
    }
   ],
   "source": [
    "train_file = out_folder + 'train.txt'\n",
    "test_file = out_folder + 'test.txt'\n",
    "with open(train_file, 'w+') as trainFile:\n",
    "    with open(test_file, 'w+') as testFile:\n",
    "        for p in pos:\n",
    "            if p\n",
    "            name = out_folder + 'positive/' + p"
   ]
  },
  {
   "cell_type": "code",
   "execution_count": 16,
   "metadata": {
    "collapsed": false
   },
   "outputs": [
    {
     "data": {
      "text/plain": [
       "True"
      ]
     },
     "execution_count": 16,
     "metadata": {},
     "output_type": "execute_result"
    }
   ],
   "source": [
    "img=cv2.imread('calendar.png')\n",
    "cv2.imwrite('augmented/vertical.png',cv2.flip(img,1))\n",
    "cv2.imwrite('augmented/horizontal.png',cv2.flip(img,0))\n",
    "cv2.imwrite('augmented/flip90.png',imutils.rotate(img, 90))\n",
    "cv2.imwrite('augmented/flip180.png',imutils.rotate(img, 180))\n",
    "cv2.imwrite('augmented/flip270.png',imutils.rotate(img, 270))\n",
    "cv2.imwrite('augmented/blured.png',cv2.blur(img,(5,5),0))\n",
    "cv2.imwrite('augmented/gblured.png',cv2.GaussianBlur(img,(5,5),0))"
   ]
  },
  {
   "cell_type": "code",
   "execution_count": 6,
   "metadata": {
    "collapsed": true
   },
   "outputs": [],
   "source": [
    "'''\n",
    "Parameters\n",
    "----------\n",
    "image : ndarray\n",
    "    Input image data. Will be converted to float.\n",
    "mode : str\n",
    "    One of the following strings, selecting the type of noise to add:\n",
    "\n",
    "    'gauss'     Gaussian-distributed additive noise.\n",
    "    'poisson'   Poisson-distributed noise generated from the data.\n",
    "    's&p'       Replaces random pixels with 0 or 1.\n",
    "    'speckle'   Multiplicative noise using out = image + n*image,where\n",
    "                n is uniform noise with specified mean & variance.\n",
    "'''\n",
    "\n",
    "\n",
    "\n",
    "import numpy as np\n",
    "import os\n",
    "import cv2\n",
    "def noisy(noise_typ,image):\n",
    "    if noise_typ == \"gauss\":\n",
    "        row,col,ch= image.shape\n",
    "        mean = 0\n",
    "        var = 0.1\n",
    "        sigma = var**0.5\n",
    "        gauss = np.random.normal(mean,sigma,(row,col,ch))\n",
    "        gauss = gauss.reshape(row,col,ch)\n",
    "        noisy = image + gauss\n",
    "        return noisy\n",
    "    elif noise_typ == \"s&p\":\n",
    "        row,col,ch = image.shape\n",
    "        s_vs_p = 0.5\n",
    "        amount = 0.004\n",
    "        out = np.copy(image)\n",
    "        # Salt mode\n",
    "        num_salt = np.ceil(amount * image.size * s_vs_p)\n",
    "        coords = [np.random.randint(0, i - 1, int(num_salt))\n",
    "              for i in image.shape]\n",
    "        out[coords] = 1\n",
    "\n",
    "        # Pepper mode\n",
    "        num_pepper = np.ceil(amount* image.size * (1. - s_vs_p))\n",
    "        coords = [np.random.randint(0, i - 1, int(num_pepper))\n",
    "              for i in image.shape]\n",
    "        out[coords] = 0\n",
    "        return out\n",
    "    elif noise_typ == \"poisson\":\n",
    "        vals = len(np.unique(image))\n",
    "        vals = 2 ** np.ceil(np.log2(vals))\n",
    "        noisy = np.random.poisson(image * vals) / float(vals)\n",
    "        return noisy\n",
    "    elif noise_typ ==\"speckle\":\n",
    "        row,col,ch = image.shape\n",
    "        gauss = np.random.randn(row,col,ch)\n",
    "        gauss = gauss.reshape(row,col,ch)        \n",
    "        noisy = image + image * gauss\n",
    "        return noisy"
   ]
  },
  {
   "cell_type": "code",
   "execution_count": 13,
   "metadata": {
    "collapsed": false
   },
   "outputs": [
    {
     "data": {
      "text/plain": [
       "True"
      ]
     },
     "execution_count": 13,
     "metadata": {},
     "output_type": "execute_result"
    }
   ],
   "source": [
    "cv2.imwrite('augmented/noisy.png', noisy('speckle', img))"
   ]
  },
  {
   "cell_type": "code",
   "execution_count": 19,
   "metadata": {
    "collapsed": false
   },
   "outputs": [
    {
     "data": {
      "text/plain": [
       "(1291, 13)"
      ]
     },
     "execution_count": 19,
     "metadata": {},
     "output_type": "execute_result"
    }
   ],
   "source": [
    "\n",
    "df[df['manual_label'] != 0].shape"
   ]
  },
  {
   "cell_type": "code",
   "execution_count": 20,
   "metadata": {
    "collapsed": false
   },
   "outputs": [
    {
     "data": {
      "text/plain": [
       "(37204, 13)"
      ]
     },
     "execution_count": 20,
     "metadata": {},
     "output_type": "execute_result"
    }
   ],
   "source": [
    "df.shape"
   ]
  },
  {
   "cell_type": "code",
   "execution_count": 21,
   "metadata": {
    "collapsed": false
   },
   "outputs": [
    {
     "data": {
      "text/html": [
       "<div>\n",
       "<table border=\"1\" class=\"dataframe\">\n",
       "  <thead>\n",
       "    <tr style=\"text-align: right;\">\n",
       "      <th></th>\n",
       "      <th>index</th>\n",
       "      <th>building_index</th>\n",
       "      <th>lat0</th>\n",
       "      <th>lat1</th>\n",
       "      <th>lng0</th>\n",
       "      <th>lng1</th>\n",
       "      <th>manual_label</th>\n",
       "      <th>means</th>\n",
       "      <th>overlap</th>\n",
       "      <th>x0</th>\n",
       "      <th>x1</th>\n",
       "      <th>y0</th>\n",
       "      <th>y1</th>\n",
       "    </tr>\n",
       "  </thead>\n",
       "  <tbody>\n",
       "    <tr>\n",
       "      <th>0</th>\n",
       "      <td>2.0</td>\n",
       "      <td>0.0</td>\n",
       "      <td>39.033528</td>\n",
       "      <td>39.033398</td>\n",
       "      <td>43.351591</td>\n",
       "      <td>43.351721</td>\n",
       "      <td>0.0</td>\n",
       "      <td>[ 255.  255.  255.]</td>\n",
       "      <td>0.0</td>\n",
       "      <td>0.0</td>\n",
       "      <td>40.0</td>\n",
       "      <td>0.0</td>\n",
       "      <td>40.0</td>\n",
       "    </tr>\n",
       "    <tr>\n",
       "      <th>1</th>\n",
       "      <td>3.0</td>\n",
       "      <td>0.0</td>\n",
       "      <td>39.033528</td>\n",
       "      <td>39.033398</td>\n",
       "      <td>43.351656</td>\n",
       "      <td>43.351786</td>\n",
       "      <td>0.0</td>\n",
       "      <td>[ 255.  255.  255.]</td>\n",
       "      <td>0.0</td>\n",
       "      <td>20.0</td>\n",
       "      <td>60.0</td>\n",
       "      <td>0.0</td>\n",
       "      <td>40.0</td>\n",
       "    </tr>\n",
       "    <tr>\n",
       "      <th>2</th>\n",
       "      <td>4.0</td>\n",
       "      <td>0.0</td>\n",
       "      <td>39.033528</td>\n",
       "      <td>39.033398</td>\n",
       "      <td>43.351721</td>\n",
       "      <td>43.351851</td>\n",
       "      <td>0.0</td>\n",
       "      <td>[ 255.  255.  255.]</td>\n",
       "      <td>0.0</td>\n",
       "      <td>40.0</td>\n",
       "      <td>80.0</td>\n",
       "      <td>0.0</td>\n",
       "      <td>40.0</td>\n",
       "    </tr>\n",
       "    <tr>\n",
       "      <th>3</th>\n",
       "      <td>5.0</td>\n",
       "      <td>0.0</td>\n",
       "      <td>39.033528</td>\n",
       "      <td>39.033398</td>\n",
       "      <td>43.351786</td>\n",
       "      <td>43.351916</td>\n",
       "      <td>0.0</td>\n",
       "      <td>[ 255.  255.  255.]</td>\n",
       "      <td>0.0</td>\n",
       "      <td>60.0</td>\n",
       "      <td>100.0</td>\n",
       "      <td>0.0</td>\n",
       "      <td>40.0</td>\n",
       "    </tr>\n",
       "    <tr>\n",
       "      <th>4</th>\n",
       "      <td>6.0</td>\n",
       "      <td>0.0</td>\n",
       "      <td>39.033528</td>\n",
       "      <td>39.033398</td>\n",
       "      <td>43.351851</td>\n",
       "      <td>43.351981</td>\n",
       "      <td>0.0</td>\n",
       "      <td>[ 255.  255.  255.]</td>\n",
       "      <td>0.0</td>\n",
       "      <td>80.0</td>\n",
       "      <td>120.0</td>\n",
       "      <td>0.0</td>\n",
       "      <td>40.0</td>\n",
       "    </tr>\n",
       "  </tbody>\n",
       "</table>\n",
       "</div>"
      ],
      "text/plain": [
       "   index  building_index       lat0       lat1       lng0       lng1  \\\n",
       "0    2.0             0.0  39.033528  39.033398  43.351591  43.351721   \n",
       "1    3.0             0.0  39.033528  39.033398  43.351656  43.351786   \n",
       "2    4.0             0.0  39.033528  39.033398  43.351721  43.351851   \n",
       "3    5.0             0.0  39.033528  39.033398  43.351786  43.351916   \n",
       "4    6.0             0.0  39.033528  39.033398  43.351851  43.351981   \n",
       "\n",
       "   manual_label                means  overlap    x0     x1   y0    y1  \n",
       "0           0.0  [ 255.  255.  255.]      0.0   0.0   40.0  0.0  40.0  \n",
       "1           0.0  [ 255.  255.  255.]      0.0  20.0   60.0  0.0  40.0  \n",
       "2           0.0  [ 255.  255.  255.]      0.0  40.0   80.0  0.0  40.0  \n",
       "3           0.0  [ 255.  255.  255.]      0.0  60.0  100.0  0.0  40.0  \n",
       "4           0.0  [ 255.  255.  255.]      0.0  80.0  120.0  0.0  40.0  "
      ]
     },
     "execution_count": 21,
     "metadata": {},
     "output_type": "execute_result"
    }
   ],
   "source": [
    "df.head(5)"
   ]
  },
  {
   "cell_type": "code",
   "execution_count": 33,
   "metadata": {
    "collapsed": false
   },
   "outputs": [
    {
     "ename": "AttributeError",
     "evalue": "'str' object has no attribute 'ends_with'",
     "output_type": "error",
     "traceback": [
      "\u001b[0;31m---------------------------------------------------------------------------\u001b[0m",
      "\u001b[0;31mAttributeError\u001b[0m                            Traceback (most recent call last)",
      "\u001b[0;32m<ipython-input-33-8d718dbd54b0>\u001b[0m in \u001b[0;36m<module>\u001b[0;34m()\u001b[0m\n\u001b[1;32m     13\u001b[0m     \u001b[0;32melse\u001b[0m\u001b[0;34m:\u001b[0m\u001b[0;34m\u001b[0m\u001b[0m\n\u001b[1;32m     14\u001b[0m         \u001b[0mshutil\u001b[0m\u001b[0;34m.\u001b[0m\u001b[0mcopy\u001b[0m\u001b[0;34m(\u001b[0m\u001b[0msrc\u001b[0m\u001b[0;34m,\u001b[0m \u001b[0mout_folder\u001b[0m\u001b[0;34m+\u001b[0m\u001b[0;34m'positive/'\u001b[0m\u001b[0;34m)\u001b[0m\u001b[0;34m\u001b[0m\u001b[0m\n\u001b[0;32m---> 15\u001b[0;31m         \u001b[0mdata_prep\u001b[0m\u001b[0;34m.\u001b[0m\u001b[0maugment\u001b[0m\u001b[0;34m(\u001b[0m\u001b[0msrc\u001b[0m\u001b[0;34m,\u001b[0m \u001b[0mout_folder\u001b[0m\u001b[0;34m+\u001b[0m\u001b[0;34m'positive/'\u001b[0m\u001b[0;34m)\u001b[0m\u001b[0;34m\u001b[0m\u001b[0m\n\u001b[0m",
      "\u001b[0;32m/home/payam/workspace/GRM/source/data_prep/augmentation.py\u001b[0m in \u001b[0;36maugment\u001b[0;34m(image, output_folder)\u001b[0m\n\u001b[1;32m     13\u001b[0m     \u001b[0mimage_name\u001b[0m \u001b[0;34m=\u001b[0m \u001b[0mimage\u001b[0m\u001b[0;34m.\u001b[0m\u001b[0msplit\u001b[0m\u001b[0;34m(\u001b[0m\u001b[0;34m'/'\u001b[0m\u001b[0;34m)\u001b[0m\u001b[0;34m[\u001b[0m\u001b[0;34m-\u001b[0m\u001b[0;36m1\u001b[0m\u001b[0;34m]\u001b[0m \u001b[0;31m# get file name\u001b[0m\u001b[0;34m\u001b[0m\u001b[0m\n\u001b[1;32m     14\u001b[0m     \u001b[0mimage_name\u001b[0m\u001b[0;34m,\u001b[0m \u001b[0mext\u001b[0m \u001b[0;34m=\u001b[0m \u001b[0mimage_name\u001b[0m\u001b[0;34m.\u001b[0m\u001b[0msplit\u001b[0m\u001b[0;34m(\u001b[0m\u001b[0;34m'.'\u001b[0m\u001b[0;34m)\u001b[0m \u001b[0;31m#get file name and extension\u001b[0m\u001b[0;34m\u001b[0m\u001b[0m\n\u001b[0;32m---> 15\u001b[0;31m     \u001b[0;32mif\u001b[0m \u001b[0;32mnot\u001b[0m \u001b[0moutput_folder\u001b[0m\u001b[0;34m.\u001b[0m\u001b[0mends_with\u001b[0m\u001b[0;34m(\u001b[0m\u001b[0;34m'/'\u001b[0m\u001b[0;34m)\u001b[0m\u001b[0;34m:\u001b[0m\u001b[0;34m\u001b[0m\u001b[0m\n\u001b[0m\u001b[1;32m     16\u001b[0m         \u001b[0moutput_folder\u001b[0m \u001b[0;34m+=\u001b[0m \u001b[0;34m'/'\u001b[0m\u001b[0;34m\u001b[0m\u001b[0m\n\u001b[1;32m     17\u001b[0m \u001b[0;34m\u001b[0m\u001b[0m\n",
      "\u001b[0;31mAttributeError\u001b[0m: 'str' object has no attribute 'ends_with'"
     ]
    }
   ],
   "source": [
    "  "
   ]
  },
  {
   "cell_type": "code",
   "execution_count": null,
   "metadata": {
    "collapsed": true
   },
   "outputs": [],
   "source": []
  }
 ],
 "metadata": {
  "kernelspec": {
   "display_name": "Python 2",
   "language": "python",
   "name": "python2"
  },
  "language_info": {
   "codemirror_mode": {
    "name": "ipython",
    "version": 2
   },
   "file_extension": ".py",
   "mimetype": "text/x-python",
   "name": "python",
   "nbconvert_exporter": "python",
   "pygments_lexer": "ipython2",
   "version": "2.7.12"
  }
 },
 "nbformat": 4,
 "nbformat_minor": 1
}
