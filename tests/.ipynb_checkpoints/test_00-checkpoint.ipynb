{
 "cells": [
  {
   "cell_type": "code",
   "execution_count": 1,
   "metadata": {
    "collapsed": false
   },
   "outputs": [],
   "source": [
    "import sys\n",
    "sys.path.append('../')\n",
    "import data_prep\n",
    "file_name = \"../../data/ercis_wo_label.tif\"\n",
    "file_name2 = '/home/payam/Dropbox/GRM/data/raw/test.tif'"
   ]
  },
  {
   "cell_type": "code",
   "execution_count": 9,
   "metadata": {
    "collapsed": false
   },
   "outputs": [
    {
     "name": "stdout",
     "output_type": "stream",
     "text": [
      "4885   3367   3\n"
     ]
    }
   ],
   "source": [
    "w, h, c = data_prep.get_dimensions(file_name2)\n",
    "print w, ' ', h, ' ', c"
   ]
  },
  {
   "cell_type": "code",
   "execution_count": 10,
   "metadata": {
    "collapsed": false
   },
   "outputs": [
    {
     "name": "stdout",
     "output_type": "stream",
     "text": [
      "minx:  357324.191767\n",
      "miny:  4320753.45192\n",
      "maxx:  358789.691767\n",
      "maxy:  4321763.55192\n"
     ]
    }
   ],
   "source": [
    "\n",
    "minx, miny, maxx, maxy = data_prep.corners(file_name2)\n",
    "\n",
    "print 'minx: ', minx\n",
    "print 'miny: ', miny\n",
    "print 'maxx: ', maxx\n",
    "print 'maxy: ', maxy"
   ]
  },
  {
   "cell_type": "code",
   "execution_count": 6,
   "metadata": {
    "collapsed": false
   },
   "outputs": [
    {
     "name": "stdout",
     "output_type": "stream",
     "text": [
      "raw : no\n",
      "20161129_ercis1_v02.tif.aux.xml : no\n",
      "test.txt : no\n",
      "train.txt : no\n",
      "ercis_and : no\n",
      "payam : no\n",
      "samples : no\n",
      "train.h5 : no\n",
      "labeling.csv : no\n",
      "test.h5 : no\n",
      "drone01 : no\n",
      "Ercis_Yikim_Bolgeleri_Kose_Koord.txt : no\n",
      "ercis : no\n",
      "ercis_wo_label.tif : yes\n",
      "ercis_w_label.tif : yes\n",
      "ercis_wo_label01.tif : yes\n"
     ]
    }
   ],
   "source": [
    "folder = '/home/payam/workspace/GRM/data/drone01/'\n",
    "#folder = '/home/payam/Dropbox/GRM/data/raw/'\n",
    "import os \n",
    "\n",
    "for f in os.listdir(folder):\n",
    "    "
   ]
  },
  {
   "cell_type": "code",
   "execution_count": 9,
   "metadata": {
    "collapsed": false
   },
   "outputs": [
    {
     "data": {
      "text/plain": [
       "['..', '..', 'data']"
      ]
     },
     "execution_count": 9,
     "metadata": {},
     "output_type": "execute_result"
    }
   ],
   "source": [
    "current_folder = file_name.split('/')[:-1]\n",
    "current_folder"
   ]
  },
  {
   "cell_type": "code",
   "execution_count": 12,
   "metadata": {
    "collapsed": false
   },
   "outputs": [
    {
     "name": "stdout",
     "output_type": "stream",
     "text": [
      "/home/payam/workspace/GRM/data/ercis_wo_label.tif\n",
      "/home/payam/workspace/GRM/data\n"
     ]
    }
   ],
   "source": [
    "import  os\n",
    "print os.path.abspath(file_name)\n",
    "print os.path.dirname(os.path.abspath(file_name)) #"
   ]
  },
  {
   "cell_type": "code",
   "execution_count": null,
   "metadata": {
    "collapsed": true
   },
   "outputs": [],
   "source": []
  }
 ],
 "metadata": {
  "kernelspec": {
   "display_name": "Python 2",
   "language": "python",
   "name": "python2"
  },
  "language_info": {
   "codemirror_mode": {
    "name": "ipython",
    "version": 2
   },
   "file_extension": ".py",
   "mimetype": "text/x-python",
   "name": "python",
   "nbconvert_exporter": "python",
   "pygments_lexer": "ipython2",
   "version": "2.7.12"
  }
 },
 "nbformat": 4,
 "nbformat_minor": 1
}
